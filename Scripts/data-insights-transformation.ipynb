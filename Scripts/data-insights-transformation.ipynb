{
 "cells": [
  {
   "cell_type": "code",
   "execution_count": 17,
   "id": "f7f54bc2",
   "metadata": {},
   "outputs": [],
   "source": [
    "import pandas as pd\n",
    "import numpy as np\n",
    "import matplotlib.pyplot as plt\n",
    "import seaborn as sns"
   ]
  },
  {
   "cell_type": "markdown",
   "id": "1ad0ff60",
   "metadata": {},
   "source": [
    "## Getting better insights about the dataset"
   ]
  },
  {
   "cell_type": "code",
   "execution_count": 18,
   "id": "8884780c",
   "metadata": {},
   "outputs": [
    {
     "data": {
      "text/plain": [
       "(778, 12)"
      ]
     },
     "execution_count": 18,
     "metadata": {},
     "output_type": "execute_result"
    }
   ],
   "source": [
    "df = pd.read_csv('combined-dataset.csv')\n",
    "df.head(5)\n",
    "df.nunique()\n",
    "df.shape"
   ]
  },
  {
   "cell_type": "code",
   "execution_count": 19,
   "id": "8c6a889f",
   "metadata": {},
   "outputs": [
    {
     "name": "stdout",
     "output_type": "stream",
     "text": [
      "<class 'pandas.core.frame.DataFrame'>\n",
      "RangeIndex: 778 entries, 0 to 777\n",
      "Data columns (total 12 columns):\n",
      " #   Column  Non-Null Count  Dtype  \n",
      "---  ------  --------------  -----  \n",
      " 0   _id     778 non-null    int64  \n",
      " 1   CT      778 non-null    int64  \n",
      " 2   BPAD    778 non-null    float64\n",
      " 3   BPAN    778 non-null    float64\n",
      " 4   BPAN2   778 non-null    float64\n",
      " 5   BWAD    778 non-null    float64\n",
      " 6   BWAN    778 non-null    float64\n",
      " 7   BWAN2   778 non-null    float64\n",
      " 8   BMAD    778 non-null    float64\n",
      " 9   BMAN    778 non-null    float64\n",
      " 10  BMAN2   778 non-null    float64\n",
      " 11  year    778 non-null    float64\n",
      "dtypes: float64(10), int64(2)\n",
      "memory usage: 73.1 KB\n"
     ]
    },
    {
     "data": {
      "text/html": [
       "<div>\n",
       "<style scoped>\n",
       "    .dataframe tbody tr th:only-of-type {\n",
       "        vertical-align: middle;\n",
       "    }\n",
       "\n",
       "    .dataframe tbody tr th {\n",
       "        vertical-align: top;\n",
       "    }\n",
       "\n",
       "    .dataframe thead th {\n",
       "        text-align: right;\n",
       "    }\n",
       "</style>\n",
       "<table border=\"1\" class=\"dataframe\">\n",
       "  <thead>\n",
       "    <tr style=\"text-align: right;\">\n",
       "      <th></th>\n",
       "      <th>count</th>\n",
       "      <th>mean</th>\n",
       "      <th>std</th>\n",
       "      <th>min</th>\n",
       "      <th>25%</th>\n",
       "      <th>50%</th>\n",
       "      <th>75%</th>\n",
       "      <th>max</th>\n",
       "    </tr>\n",
       "  </thead>\n",
       "  <tbody>\n",
       "    <tr>\n",
       "      <th>_id</th>\n",
       "      <td>778.0</td>\n",
       "      <td>195.005141</td>\n",
       "      <td>112.375382</td>\n",
       "      <td>1.0</td>\n",
       "      <td>98.00</td>\n",
       "      <td>195.0</td>\n",
       "      <td>292.00</td>\n",
       "      <td>390.0</td>\n",
       "    </tr>\n",
       "    <tr>\n",
       "      <th>CT</th>\n",
       "      <td>778.0</td>\n",
       "      <td>393921.943445</td>\n",
       "      <td>161736.715589</td>\n",
       "      <td>10300.0</td>\n",
       "      <td>281400.00</td>\n",
       "      <td>456004.0</td>\n",
       "      <td>496200.00</td>\n",
       "      <td>980700.0</td>\n",
       "    </tr>\n",
       "    <tr>\n",
       "      <th>BPAD</th>\n",
       "      <td>778.0</td>\n",
       "      <td>1697.668380</td>\n",
       "      <td>928.058974</td>\n",
       "      <td>5.0</td>\n",
       "      <td>988.75</td>\n",
       "      <td>1491.0</td>\n",
       "      <td>2277.25</td>\n",
       "      <td>6835.0</td>\n",
       "    </tr>\n",
       "    <tr>\n",
       "      <th>BPAN</th>\n",
       "      <td>778.0</td>\n",
       "      <td>164.904884</td>\n",
       "      <td>92.776929</td>\n",
       "      <td>0.0</td>\n",
       "      <td>93.00</td>\n",
       "      <td>150.0</td>\n",
       "      <td>219.00</td>\n",
       "      <td>522.0</td>\n",
       "    </tr>\n",
       "    <tr>\n",
       "      <th>BPAN2</th>\n",
       "      <td>778.0</td>\n",
       "      <td>104.236504</td>\n",
       "      <td>55.634407</td>\n",
       "      <td>0.0</td>\n",
       "      <td>62.00</td>\n",
       "      <td>97.0</td>\n",
       "      <td>141.00</td>\n",
       "      <td>315.0</td>\n",
       "    </tr>\n",
       "    <tr>\n",
       "      <th>BWAD</th>\n",
       "      <td>778.0</td>\n",
       "      <td>926.605398</td>\n",
       "      <td>491.751323</td>\n",
       "      <td>4.0</td>\n",
       "      <td>543.00</td>\n",
       "      <td>822.0</td>\n",
       "      <td>1250.50</td>\n",
       "      <td>3495.0</td>\n",
       "    </tr>\n",
       "    <tr>\n",
       "      <th>BWAN</th>\n",
       "      <td>778.0</td>\n",
       "      <td>87.610540</td>\n",
       "      <td>50.222196</td>\n",
       "      <td>0.0</td>\n",
       "      <td>50.00</td>\n",
       "      <td>78.0</td>\n",
       "      <td>117.00</td>\n",
       "      <td>321.0</td>\n",
       "    </tr>\n",
       "    <tr>\n",
       "      <th>BWAN2</th>\n",
       "      <td>778.0</td>\n",
       "      <td>53.645244</td>\n",
       "      <td>28.776109</td>\n",
       "      <td>0.0</td>\n",
       "      <td>33.00</td>\n",
       "      <td>49.0</td>\n",
       "      <td>72.00</td>\n",
       "      <td>169.0</td>\n",
       "    </tr>\n",
       "    <tr>\n",
       "      <th>BMAD</th>\n",
       "      <td>778.0</td>\n",
       "      <td>771.061697</td>\n",
       "      <td>439.827431</td>\n",
       "      <td>0.0</td>\n",
       "      <td>438.25</td>\n",
       "      <td>673.5</td>\n",
       "      <td>1046.25</td>\n",
       "      <td>3340.0</td>\n",
       "    </tr>\n",
       "    <tr>\n",
       "      <th>BMAN</th>\n",
       "      <td>778.0</td>\n",
       "      <td>77.293059</td>\n",
       "      <td>45.020075</td>\n",
       "      <td>0.0</td>\n",
       "      <td>42.00</td>\n",
       "      <td>69.0</td>\n",
       "      <td>106.00</td>\n",
       "      <td>238.0</td>\n",
       "    </tr>\n",
       "    <tr>\n",
       "      <th>BMAN2</th>\n",
       "      <td>778.0</td>\n",
       "      <td>50.589974</td>\n",
       "      <td>28.847672</td>\n",
       "      <td>0.0</td>\n",
       "      <td>28.00</td>\n",
       "      <td>46.0</td>\n",
       "      <td>69.00</td>\n",
       "      <td>166.0</td>\n",
       "    </tr>\n",
       "    <tr>\n",
       "      <th>year</th>\n",
       "      <td>778.0</td>\n",
       "      <td>2015.500000</td>\n",
       "      <td>0.500322</td>\n",
       "      <td>2015.0</td>\n",
       "      <td>2015.00</td>\n",
       "      <td>2015.5</td>\n",
       "      <td>2016.00</td>\n",
       "      <td>2016.0</td>\n",
       "    </tr>\n",
       "  </tbody>\n",
       "</table>\n",
       "</div>"
      ],
      "text/plain": [
       "       count           mean            std      min        25%       50%  \\\n",
       "_id    778.0     195.005141     112.375382      1.0      98.00     195.0   \n",
       "CT     778.0  393921.943445  161736.715589  10300.0  281400.00  456004.0   \n",
       "BPAD   778.0    1697.668380     928.058974      5.0     988.75    1491.0   \n",
       "BPAN   778.0     164.904884      92.776929      0.0      93.00     150.0   \n",
       "BPAN2  778.0     104.236504      55.634407      0.0      62.00      97.0   \n",
       "BWAD   778.0     926.605398     491.751323      4.0     543.00     822.0   \n",
       "BWAN   778.0      87.610540      50.222196      0.0      50.00      78.0   \n",
       "BWAN2  778.0      53.645244      28.776109      0.0      33.00      49.0   \n",
       "BMAD   778.0     771.061697     439.827431      0.0     438.25     673.5   \n",
       "BMAN   778.0      77.293059      45.020075      0.0      42.00      69.0   \n",
       "BMAN2  778.0      50.589974      28.847672      0.0      28.00      46.0   \n",
       "year   778.0    2015.500000       0.500322   2015.0    2015.00    2015.5   \n",
       "\n",
       "             75%       max  \n",
       "_id       292.00     390.0  \n",
       "CT     496200.00  980700.0  \n",
       "BPAD     2277.25    6835.0  \n",
       "BPAN      219.00     522.0  \n",
       "BPAN2     141.00     315.0  \n",
       "BWAD     1250.50    3495.0  \n",
       "BWAN      117.00     321.0  \n",
       "BWAN2      72.00     169.0  \n",
       "BMAD     1046.25    3340.0  \n",
       "BMAN      106.00     238.0  \n",
       "BMAN2      69.00     166.0  \n",
       "year     2016.00    2016.0  "
      ]
     },
     "execution_count": 19,
     "metadata": {},
     "output_type": "execute_result"
    }
   ],
   "source": [
    "df.info()\n",
    "df.describe().transpose()"
   ]
  },
  {
   "cell_type": "markdown",
   "id": "adaecfa2",
   "metadata": {},
   "source": [
    "### Creating a new column which basically represents Total people diagnosed but not treated for bipolar disorder namely 'total_gap'"
   ]
  },
  {
   "cell_type": "code",
   "execution_count": 23,
   "id": "86ae9a69",
   "metadata": {},
   "outputs": [
    {
     "data": {
      "text/plain": [
       "count    778.000000\n",
       "mean      60.668380\n",
       "std       43.342586\n",
       "min        0.000000\n",
       "25%       29.000000\n",
       "50%       48.000000\n",
       "75%       81.750000\n",
       "max      240.000000\n",
       "Name: total_gap, dtype: float64"
      ]
     },
     "execution_count": 23,
     "metadata": {},
     "output_type": "execute_result"
    }
   ],
   "source": [
    "df['total_gap'] = df['BPAN'] - df['BPAN2']\n",
    "df['total_gap'].describe()"
   ]
  },
  {
   "cell_type": "code",
   "execution_count": 33,
   "id": "7394d84a",
   "metadata": {},
   "outputs": [
    {
     "data": {
      "text/html": [
       "<div>\n",
       "<style scoped>\n",
       "    .dataframe tbody tr th:only-of-type {\n",
       "        vertical-align: middle;\n",
       "    }\n",
       "\n",
       "    .dataframe tbody tr th {\n",
       "        vertical-align: top;\n",
       "    }\n",
       "\n",
       "    .dataframe thead th {\n",
       "        text-align: right;\n",
       "    }\n",
       "</style>\n",
       "<table border=\"1\" class=\"dataframe\">\n",
       "  <thead>\n",
       "    <tr style=\"text-align: right;\">\n",
       "      <th></th>\n",
       "      <th>year</th>\n",
       "      <th>total_gap</th>\n",
       "      <th>count</th>\n",
       "    </tr>\n",
       "  </thead>\n",
       "  <tbody>\n",
       "    <tr>\n",
       "      <th>0</th>\n",
       "      <td>2015.0</td>\n",
       "      <td>43.0</td>\n",
       "      <td>8</td>\n",
       "    </tr>\n",
       "    <tr>\n",
       "      <th>1</th>\n",
       "      <td>2015.0</td>\n",
       "      <td>33.0</td>\n",
       "      <td>7</td>\n",
       "    </tr>\n",
       "    <tr>\n",
       "      <th>2</th>\n",
       "      <td>2015.0</td>\n",
       "      <td>46.0</td>\n",
       "      <td>7</td>\n",
       "    </tr>\n",
       "    <tr>\n",
       "      <th>3</th>\n",
       "      <td>2015.0</td>\n",
       "      <td>29.0</td>\n",
       "      <td>7</td>\n",
       "    </tr>\n",
       "    <tr>\n",
       "      <th>4</th>\n",
       "      <td>2015.0</td>\n",
       "      <td>30.0</td>\n",
       "      <td>7</td>\n",
       "    </tr>\n",
       "    <tr>\n",
       "      <th>...</th>\n",
       "      <td>...</td>\n",
       "      <td>...</td>\n",
       "      <td>...</td>\n",
       "    </tr>\n",
       "    <tr>\n",
       "      <th>251</th>\n",
       "      <td>2016.0</td>\n",
       "      <td>40.0</td>\n",
       "      <td>1</td>\n",
       "    </tr>\n",
       "    <tr>\n",
       "      <th>252</th>\n",
       "      <td>2016.0</td>\n",
       "      <td>4.0</td>\n",
       "      <td>1</td>\n",
       "    </tr>\n",
       "    <tr>\n",
       "      <th>253</th>\n",
       "      <td>2016.0</td>\n",
       "      <td>2.0</td>\n",
       "      <td>1</td>\n",
       "    </tr>\n",
       "    <tr>\n",
       "      <th>254</th>\n",
       "      <td>2016.0</td>\n",
       "      <td>1.0</td>\n",
       "      <td>1</td>\n",
       "    </tr>\n",
       "    <tr>\n",
       "      <th>255</th>\n",
       "      <td>2016.0</td>\n",
       "      <td>149.0</td>\n",
       "      <td>1</td>\n",
       "    </tr>\n",
       "  </tbody>\n",
       "</table>\n",
       "<p>256 rows × 3 columns</p>\n",
       "</div>"
      ],
      "text/plain": [
       "       year  total_gap  count\n",
       "0    2015.0       43.0      8\n",
       "1    2015.0       33.0      7\n",
       "2    2015.0       46.0      7\n",
       "3    2015.0       29.0      7\n",
       "4    2015.0       30.0      7\n",
       "..      ...        ...    ...\n",
       "251  2016.0       40.0      1\n",
       "252  2016.0        4.0      1\n",
       "253  2016.0        2.0      1\n",
       "254  2016.0        1.0      1\n",
       "255  2016.0      149.0      1\n",
       "\n",
       "[256 rows x 3 columns]"
      ]
     },
     "execution_count": 33,
     "metadata": {},
     "output_type": "execute_result"
    }
   ],
   "source": [
    "df.groupby('year')['total_gap'].value_counts().reset_index()"
   ]
  },
  {
   "cell_type": "markdown",
   "id": "1c7df695",
   "metadata": {},
   "source": [
    "### Calculating the percentage of people who were treated"
   ]
  },
  {
   "cell_type": "code",
   "execution_count": 34,
   "id": "fa3085e2",
   "metadata": {},
   "outputs": [],
   "source": [
    "df['treatment_rate'] = (df['BPAN2']/df['BPAN']) * 100"
   ]
  },
  {
   "cell_type": "code",
   "execution_count": 35,
   "id": "32e3243b",
   "metadata": {},
   "outputs": [
    {
     "data": {
      "text/plain": [
       "count    775.000000\n",
       "mean      64.677217\n",
       "std       10.111606\n",
       "min       35.087719\n",
       "25%       57.289855\n",
       "50%       65.263158\n",
       "75%       72.024845\n",
       "max      100.000000\n",
       "Name: treatment_rate, dtype: float64"
      ]
     },
     "execution_count": 35,
     "metadata": {},
     "output_type": "execute_result"
    }
   ],
   "source": [
    "df['treatment_rate'].describe()"
   ]
  },
  {
   "cell_type": "markdown",
   "id": "861fe267",
   "metadata": {},
   "source": [
    "### Calculating the Gap for Women"
   ]
  },
  {
   "cell_type": "code",
   "execution_count": 36,
   "id": "83bff379",
   "metadata": {},
   "outputs": [],
   "source": [
    "df['female_gap'] = df['BWAN'] - df['BWAN2']"
   ]
  },
  {
   "cell_type": "code",
   "execution_count": 37,
   "id": "635299b6",
   "metadata": {},
   "outputs": [
    {
     "data": {
      "text/plain": [
       "count    778.000000\n",
       "mean      33.965296\n",
       "std       26.455617\n",
       "min        0.000000\n",
       "25%       15.000000\n",
       "50%       25.500000\n",
       "75%       44.000000\n",
       "max      161.000000\n",
       "Name: female_gap, dtype: float64"
      ]
     },
     "execution_count": 37,
     "metadata": {},
     "output_type": "execute_result"
    }
   ],
   "source": [
    "df['female_gap'].describe()"
   ]
  },
  {
   "cell_type": "markdown",
   "id": "b4e1c0a4",
   "metadata": {},
   "source": [
    "### Calculating the Gap for Men"
   ]
  },
  {
   "cell_type": "code",
   "execution_count": 38,
   "id": "17b7162e",
   "metadata": {},
   "outputs": [],
   "source": [
    "df['male_gap'] = df['BMAN'] - df['BMAN2']"
   ]
  },
  {
   "cell_type": "code",
   "execution_count": 40,
   "id": "572aa6b6",
   "metadata": {},
   "outputs": [
    {
     "data": {
      "text/plain": [
       "count    778.000000\n",
       "mean      26.703085\n",
       "std       18.412631\n",
       "min        0.000000\n",
       "25%       12.000000\n",
       "50%       23.000000\n",
       "75%       37.000000\n",
       "max       84.000000\n",
       "Name: male_gap, dtype: float64"
      ]
     },
     "execution_count": 40,
     "metadata": {},
     "output_type": "execute_result"
    }
   ],
   "source": [
    "df['male_gap'].describe()"
   ]
  },
  {
   "cell_type": "markdown",
   "id": "96211f65",
   "metadata": {},
   "source": [
    "### Calculating the Female Rate"
   ]
  },
  {
   "cell_type": "code",
   "execution_count": 41,
   "id": "53423591",
   "metadata": {},
   "outputs": [],
   "source": [
    "df['female_rate'] = (df['BWAN2']/df['BWAN']) * 100"
   ]
  },
  {
   "cell_type": "code",
   "execution_count": 42,
   "id": "326de9c9",
   "metadata": {},
   "outputs": [
    {
     "data": {
      "text/plain": [
       "count    774.000000\n",
       "mean      63.169879\n",
       "std       13.301519\n",
       "min       14.285714\n",
       "25%       52.950915\n",
       "50%       64.031932\n",
       "75%       73.333333\n",
       "max      100.000000\n",
       "Name: female_rate, dtype: float64"
      ]
     },
     "execution_count": 42,
     "metadata": {},
     "output_type": "execute_result"
    }
   ],
   "source": [
    "df['female_rate'].describe()"
   ]
  },
  {
   "cell_type": "markdown",
   "id": "0a3caa5a",
   "metadata": {},
   "source": [
    "### Calculating the Male Rate"
   ]
  },
  {
   "cell_type": "code",
   "execution_count": 43,
   "id": "dad7644a",
   "metadata": {},
   "outputs": [],
   "source": [
    "df['male_rate'] = (df['BMAN2']/df['BMAN']) * 100"
   ]
  },
  {
   "cell_type": "code",
   "execution_count": 44,
   "id": "1aed1d40",
   "metadata": {},
   "outputs": [
    {
     "data": {
      "text/plain": [
       "count    775.000000\n",
       "mean      66.566543\n",
       "std        9.434996\n",
       "min       35.000000\n",
       "25%       60.319473\n",
       "50%       66.666667\n",
       "75%       72.264957\n",
       "max      100.000000\n",
       "Name: male_rate, dtype: float64"
      ]
     },
     "execution_count": 44,
     "metadata": {},
     "output_type": "execute_result"
    }
   ],
   "source": [
    "df['male_rate'].describe()"
   ]
  },
  {
   "cell_type": "markdown",
   "id": "ab4204ec",
   "metadata": {},
   "source": [
    "### Calculating the Gender Gap Difference"
   ]
  },
  {
   "cell_type": "code",
   "execution_count": 50,
   "id": "27abaf41",
   "metadata": {},
   "outputs": [],
   "source": [
    "df['gender_gap_diff'] = df['female_rate'] - df['male_rate']"
   ]
  },
  {
   "cell_type": "code",
   "execution_count": 51,
   "id": "a42797c2",
   "metadata": {},
   "outputs": [
    {
     "data": {
      "text/plain": [
       "count    774.000000\n",
       "mean      -3.353468\n",
       "std       11.513387\n",
       "min      -68.067227\n",
       "25%      -10.205660\n",
       "50%       -3.180016\n",
       "75%        3.654801\n",
       "max       36.842105\n",
       "Name: gender_gap_diff, dtype: float64"
      ]
     },
     "execution_count": 51,
     "metadata": {},
     "output_type": "execute_result"
    }
   ],
   "source": [
    "df['gender_gap_diff'].describe()"
   ]
  },
  {
   "cell_type": "markdown",
   "id": "df8eaa29",
   "metadata": {},
   "source": [
    "### Finding out the Treatment Rate performance between years 2015 and 2016"
   ]
  },
  {
   "cell_type": "code",
   "execution_count": 73,
   "id": "85332414",
   "metadata": {},
   "outputs": [
    {
     "data": {
      "text/plain": [
       "<Axes: title={'center': 'YOY Treatment Rate Metrics Graph'}, xlabel='year', ylabel='Aggregate Metrics'>"
      ]
     },
     "execution_count": 73,
     "metadata": {},
     "output_type": "execute_result"
    },
    {
     "data": {
      "image/png": "[encoded data removed]",
      "text/plain": [
       "<Figure size 640x480 with 1 Axes>"
      ]
     },
     "metadata": {},
     "output_type": "display_data"
    }
   ],
   "source": [
    "df.groupby('year')['treatment_rate'].agg(['median','mean', 'min', 'max'])\n",
    "df.groupby('year')['treatment_rate'].agg(['median','mean', 'min', 'max']).plot(kind='bar', ylabel='Aggregate Metrics', title= 'YOY Treatment Rate Metrics Graph')"
   ]
  },
  {
   "cell_type": "code",
   "execution_count": 72,
   "id": "78df855b",
   "metadata": {},
   "outputs": [
    {
     "data": {
      "text/plain": [
       "<Axes: title={'center': 'Median Treatment Rate Bar Graph'}, xlabel='year', ylabel='Median Treatment Rate'>"
      ]
     },
     "execution_count": 72,
     "metadata": {},
     "output_type": "execute_result"
    },
    {
     "data": {
      "image/png": "[encoded data removed]",
      "text/plain": [
       "<Figure size 640x480 with 1 Axes>"
      ]
     },
     "metadata": {},
     "output_type": "display_data"
    }
   ],
   "source": [
    "df.groupby('year')['treatment_rate'].agg(['median']).plot(kind='bar', ylabel='Median Treatment Rate', title='Median Treatment Rate Bar Graph')"
   ]
  },
  {
   "cell_type": "markdown",
   "id": "341cb4c7",
   "metadata": {},
   "source": [
    "### So we can undersand from the above conclusion that we the treatment rate of year 2016 if better than the treatment rate of 2015"
   ]
  },
  {
   "cell_type": "markdown",
   "id": "5467958e",
   "metadata": {},
   "source": [
    "### Comparing the Male Vs the Female treatment rate in the county"
   ]
  },
  {
   "cell_type": "code",
   "execution_count": 85,
   "id": "057ab7c0",
   "metadata": {},
   "outputs": [
    {
     "data": {
      "text/html": [
       "<div>\n",
       "<style scoped>\n",
       "    .dataframe tbody tr th:only-of-type {\n",
       "        vertical-align: middle;\n",
       "    }\n",
       "\n",
       "    .dataframe tbody tr th {\n",
       "        vertical-align: top;\n",
       "    }\n",
       "\n",
       "    .dataframe thead th {\n",
       "        text-align: right;\n",
       "    }\n",
       "</style>\n",
       "<table border=\"1\" class=\"dataframe\">\n",
       "  <thead>\n",
       "    <tr style=\"text-align: right;\">\n",
       "      <th></th>\n",
       "      <th>year</th>\n",
       "      <th>2015.0</th>\n",
       "      <th>2016.0</th>\n",
       "    </tr>\n",
       "  </thead>\n",
       "  <tbody>\n",
       "    <tr>\n",
       "      <th rowspan=\"4\" valign=\"top\">male_rate</th>\n",
       "      <th>max</th>\n",
       "      <td>100.000000</td>\n",
       "      <td>100.000000</td>\n",
       "    </tr>\n",
       "    <tr>\n",
       "      <th>min</th>\n",
       "      <td>35.000000</td>\n",
       "      <td>50.000000</td>\n",
       "    </tr>\n",
       "    <tr>\n",
       "      <th>mean</th>\n",
       "      <td>61.788535</td>\n",
       "      <td>71.356896</td>\n",
       "    </tr>\n",
       "    <tr>\n",
       "      <th>median</th>\n",
       "      <td>61.326979</td>\n",
       "      <td>70.895522</td>\n",
       "    </tr>\n",
       "    <tr>\n",
       "      <th rowspan=\"4\" valign=\"top\">female_rate</th>\n",
       "      <th>max</th>\n",
       "      <td>90.476190</td>\n",
       "      <td>100.000000</td>\n",
       "    </tr>\n",
       "    <tr>\n",
       "      <th>min</th>\n",
       "      <td>17.647059</td>\n",
       "      <td>14.285714</td>\n",
       "    </tr>\n",
       "    <tr>\n",
       "      <th>mean</th>\n",
       "      <td>53.893608</td>\n",
       "      <td>72.446149</td>\n",
       "    </tr>\n",
       "    <tr>\n",
       "      <th>median</th>\n",
       "      <td>53.521127</td>\n",
       "      <td>73.015873</td>\n",
       "    </tr>\n",
       "  </tbody>\n",
       "</table>\n",
       "</div>"
      ],
      "text/plain": [
       "year                    2015.0      2016.0\n",
       "male_rate   max     100.000000  100.000000\n",
       "            min      35.000000   50.000000\n",
       "            mean     61.788535   71.356896\n",
       "            median   61.326979   70.895522\n",
       "female_rate max      90.476190  100.000000\n",
       "            min      17.647059   14.285714\n",
       "            mean     53.893608   72.446149\n",
       "            median   53.521127   73.015873"
      ]
     },
     "execution_count": 85,
     "metadata": {},
     "output_type": "execute_result"
    }
   ],
   "source": [
    "df.groupby('year')[['male_rate','female_rate']].agg(['max','min','mean','median']).transpose()"
   ]
  },
  {
   "cell_type": "code",
   "execution_count": 79,
   "id": "14d43238",
   "metadata": {},
   "outputs": [
    {
     "data": {
      "text/plain": [
       "<Axes: title={'center': 'Gender Wise Median Treatment Rate by Year'}, xlabel='year', ylabel='Median Treatment Rate'>"
      ]
     },
     "execution_count": 79,
     "metadata": {},
     "output_type": "execute_result"
    },
    {
     "data": {
      "image/png": "[encoded data removed]",
      "text/plain": [
       "<Figure size 640x480 with 1 Axes>"
      ]
     },
     "metadata": {},
     "output_type": "display_data"
    }
   ],
   "source": [
    "df.groupby('year')[['male_rate','female_rate']].median().plot(kind='bar', ylabel='Median Treatment Rate', title='Gender Wise Median Treatment Rate by Year')"
   ]
  },
  {
   "cell_type": "markdown",
   "id": "f6c1958c",
   "metadata": {},
   "source": [
    "### During the year 2015 the male bipolar disorder identification and treatment level is relatively higher than the female BP identification and treatment level. We can come to a conclusion theat there is a clear disparity and as we come to the year 2016 we can observe the treatment and medication of female Bipolar disoder patients has been increased and take over the male identification by a very slight margin."
   ]
  }
 ],
 "metadata": {
  "kernelspec": {
   "display_name": "base",
   "language": "python",
   "name": "python3"
  },
  "language_info": {
   "codemirror_mode": {
    "name": "ipython",
    "version": 3
   },
   "file_extension": ".py",
   "mimetype": "text/x-python",
   "name": "python",
   "nbconvert_exporter": "python",
   "pygments_lexer": "ipython3",
   "version": "3.11.5"
  }
 },
 "nbformat": 4,
 "nbformat_minor": 5
}
